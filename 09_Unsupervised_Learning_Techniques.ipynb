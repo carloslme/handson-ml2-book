{
  "nbformat": 4,
  "nbformat_minor": 0,
  "metadata": {
    "colab": {
      "name": "09_Unsupervised_Learning_Techniques.ipynb",
      "provenance": [],
      "include_colab_link": true
    },
    "kernelspec": {
      "name": "python3",
      "display_name": "Python 3"
    },
    "language_info": {
      "name": "python"
    }
  },
  "cells": [
    {
      "cell_type": "markdown",
      "metadata": {
        "id": "view-in-github",
        "colab_type": "text"
      },
      "source": [
        "<a href=\"https://colab.research.google.com/github/carloslme/handson-ml2-book/blob/main/09_Unsupervised_Learning_Techniques.ipynb\" target=\"_parent\"><img src=\"https://colab.research.google.com/assets/colab-badge.svg\" alt=\"Open In Colab\"/></a>"
      ]
    },
    {
      "cell_type": "markdown",
      "metadata": {
        "id": "5ffztYEZ9jS2"
      },
      "source": [
        "# Setup"
      ]
    },
    {
      "cell_type": "code",
      "metadata": {
        "id": "dQ-PFiwN9aWH"
      },
      "source": [
        "# Python ≥3.5 is required\n",
        "import sys\n",
        "assert sys.version_info >= (3, 5)\n",
        "\n",
        "# Scikit-Learn ≥0.20 is required\n",
        "import sklearn\n",
        "assert sklearn.__version__ >= \"0.20\"\n",
        "\n",
        "# Common imports\n",
        "import numpy as np\n",
        "import os\n",
        "\n",
        "# to make this notebook's output stable across runs\n",
        "np.random.seed(42)\n",
        "\n",
        "# To plot pretty figures\n",
        "%matplotlib inline\n",
        "import matplotlib as mpl\n",
        "import matplotlib.pyplot as plt\n",
        "mpl.rc('axes', labelsize=14)\n",
        "mpl.rc('xtick', labelsize=12)\n",
        "mpl.rc('ytick', labelsize=12)\n",
        "\n",
        "# Where to save the figures\n",
        "PROJECT_ROOT_DIR = \".\"\n",
        "CHAPTER_ID = \"unsupervised_learning\"\n",
        "IMAGES_PATH = os.path.join(PROJECT_ROOT_DIR, \"images\", CHAPTER_ID)\n",
        "os.makedirs(IMAGES_PATH, exist_ok=True)\n",
        "\n",
        "def save_fig(fig_id, tight_layout=True, fig_extension=\"png\", resolution=300):\n",
        "    path = os.path.join(IMAGES_PATH, fig_id + \".\" + fig_extension)\n",
        "    print(\"Saving figure\", fig_id)\n",
        "    if tight_layout:\n",
        "        plt.tight_layout()\n",
        "    plt.savefig(path, format=fig_extension, dpi=resolution)"
      ],
      "execution_count": 1,
      "outputs": []
    },
    {
      "cell_type": "markdown",
      "metadata": {
        "id": "t2zCsi9JBg3D"
      },
      "source": [
        "# Introduction\n",
        "The vast majority of the available data is unlabeled. Unsupervised learning can labeled data without needing humans to label everything.\n",
        "\n",
        "There are three principal unsupervised learning tasks and algorithms:\n",
        "* **Clustering**: The goal is to groups similar instances together into clusters. Clustering is a great tool for data analysis, customer segmentation, recommender systems, search engines, image segmentation, semi-unsupervised learning, dimensionality reduction, and more.\n",
        "\n",
        "* **Anomaly detection**: The objective is to learn what \"normal\" data looks like, and then use that to detect abnormal instances, such as defective items on a production line or a new trend in a time series.\n",
        "\n",
        "* **Density estimation**: This is the task of estimating the probability density function (PDF) of the random process that generated the dataset. Density is commonly used for anomaly detection: instances located in very low-density regions are likely to be anomalies. It is also for data analysis and visualization."
      ]
    },
    {
      "cell_type": "markdown",
      "metadata": {
        "id": "jeiBfctjDllF"
      },
      "source": [
        "# Clustering\n",
        "Clustering it is the tasks of identifying similar instances and assigning them to clusters, or groups of similar instances."
      ]
    },
    {
      "cell_type": "code",
      "metadata": {
        "id": "cwK0Zrmv9lGD"
      },
      "source": [
        "from sklearn.datasets import load_iris"
      ],
      "execution_count": 2,
      "outputs": []
    },
    {
      "cell_type": "code",
      "metadata": {
        "colab": {
          "base_uri": "https://localhost:8080/"
        },
        "id": "6nI6ffqZJTdf",
        "outputId": "a88d16ac-b28b-41bb-92c5-41455010a153"
      },
      "source": [
        "data = load_iris()\n",
        "X = data.data\n",
        "y = data.target\n",
        "data.target_names"
      ],
      "execution_count": 4,
      "outputs": [
        {
          "output_type": "execute_result",
          "data": {
            "text/plain": [
              "array(['setosa', 'versicolor', 'virginica'], dtype='<U10')"
            ]
          },
          "metadata": {
            "tags": []
          },
          "execution_count": 4
        }
      ]
    },
    {
      "cell_type": "code",
      "metadata": {
        "colab": {
          "base_uri": "https://localhost:8080/",
          "height": 259
        },
        "id": "p6eGzbhcJXcM",
        "outputId": "c8015358-73fe-4c6c-ae27-98303db0ca7b"
      },
      "source": [
        "plt.figure(figsize=(9, 3.5))\n",
        "\n",
        "plt.subplot(121)\n",
        "plt.plot(X[y==0, 2], X[y==0, 3], \"yo\", label=\"Iris setosa\")\n",
        "plt.plot(X[y==1, 2], X[y==1, 3], \"bs\", label=\"Iris versicolor\")\n",
        "plt.plot(X[y==2, 2], X[y==2, 3], \"g^\", label=\"Iris virginica\")\n",
        "plt.xlabel(\"Petal length\", fontsize=14)\n",
        "plt.ylabel(\"Petal width\", fontsize=14)\n",
        "plt.legend(fontsize=12)\n",
        "\n",
        "plt.subplot(122)\n",
        "plt.scatter(X[:, 2], X[:, 3], c=\"k\", marker=\".\")\n",
        "plt.xlabel(\"Petal length\", fontsize=14)\n",
        "plt.tick_params(labelleft=False)\n",
        "\n",
        "# save_fig(\"classification_vs_clustering_plot\")\n",
        "plt.show()"
      ],
      "execution_count": 5,
      "outputs": [
        {
          "output_type": "display_data",
          "data": {
            "image/png": "[encoded data removed]",
            "text/plain": [
              "<Figure size 648x252 with 2 Axes>"
            ]
          },
          "metadata": {
            "tags": [],
            "needs_background": "light"
          }
        }
      ]
    },
    {
      "cell_type": "markdown",
      "metadata": {
        "id": "y6epo8HwKePU"
      },
      "source": [
        "Applying a GAussian mixture model, that can actually separate these clusters pretty well (using all 4 features: petal length & width, and sepal & width). "
      ]
    },
    {
      "cell_type": "code",
      "metadata": {
        "id": "9TjVoolWJeFm"
      },
      "source": [
        "from sklearn.mixture import GaussianMixture"
      ],
      "execution_count": 6,
      "outputs": []
    },
    {
      "cell_type": "code",
      "metadata": {
        "id": "IeDtxwNsKui7"
      },
      "source": [
        "y_pred = GaussianMixture(n_components=3, random_state=42).fit(X).predict(X)"
      ],
      "execution_count": 7,
      "outputs": []
    },
    {
      "cell_type": "markdown",
      "metadata": {
        "id": "KanE4bYVK1Qb"
      },
      "source": [
        "Let's map each cluster to a class. We will pcik the most common class for each cluster using `scipy.stats.mode()` function."
      ]
    },
    {
      "cell_type": "code",
      "metadata": {
        "id": "4r51Sl7NKxVQ",
        "colab": {
          "base_uri": "https://localhost:8080/"
        },
        "outputId": "dba36cbc-dac1-4d5c-e10c-523238b3b80d"
      },
      "source": [
        "from scipy import stats\n",
        "\n",
        "mapping = {}\n",
        "for class_id in np.unique(y):\n",
        "    mode, _ = stats.mode(y_pred[y==class_id])\n",
        "    mapping[mode[0]] = class_id\n",
        "\n",
        "mapping"
      ],
      "execution_count": 8,
      "outputs": [
        {
          "output_type": "execute_result",
          "data": {
            "text/plain": [
              "{0: 1, 1: 2, 2: 0}"
            ]
          },
          "metadata": {
            "tags": []
          },
          "execution_count": 8
        }
      ]
    },
    {
      "cell_type": "code",
      "metadata": {
        "id": "ukUISbBALIjg"
      },
      "source": [
        "y_pred = np.array([mapping[cluster_id] for cluster_id in y_pred])"
      ],
      "execution_count": 9,
      "outputs": []
    },
    {
      "cell_type": "code",
      "metadata": {
        "id": "mYxCW65OLNEq",
        "colab": {
          "base_uri": "https://localhost:8080/",
          "height": 286
        },
        "outputId": "8c5429c9-0359-4b37-9d92-b9abfdde1edc"
      },
      "source": [
        "plt.plot(X[y_pred==0, 2], X[y_pred==0, 3], \"yo\", label=\"Cluster 1\")\n",
        "plt.plot(X[y_pred==1, 2], X[y_pred==1, 3], \"bs\", label=\"Cluster 2\")\n",
        "plt.plot(X[y_pred==2, 2], X[y_pred==2, 3], \"g^\", label=\"Cluster 3\")\n",
        "plt.xlabel(\"Petal length\", fontsize=14)\n",
        "plt.ylabel(\"Petal width\", fontsize=14)\n",
        "plt.legend(loc=\"upper left\", fontsize=12)\n",
        "plt.show()"
      ],
      "execution_count": 10,
      "outputs": [
        {
          "output_type": "display_data",
          "data": {
            "image/png": "[encoded data removed]",
            "text/plain": [
              "<Figure size 432x288 with 1 Axes>"
            ]
          },
          "metadata": {
            "tags": [],
            "needs_background": "light"
          }
        }
      ]
    },
    {
      "cell_type": "code",
      "metadata": {
        "id": "3LVExDvhLPJk",
        "colab": {
          "base_uri": "https://localhost:8080/"
        },
        "outputId": "00d7b71b-188c-448f-f6d2-1a94cf57f67c"
      },
      "source": [
        "np.sum(y_pred==y)"
      ],
      "execution_count": 11,
      "outputs": [
        {
          "output_type": "execute_result",
          "data": {
            "text/plain": [
              "145"
            ]
          },
          "metadata": {
            "tags": []
          },
          "execution_count": 11
        }
      ]
    },
    {
      "cell_type": "code",
      "metadata": {
        "id": "qVp1yso9LSoc",
        "colab": {
          "base_uri": "https://localhost:8080/"
        },
        "outputId": "2c7140b1-a5b6-448a-8fc2-bf6629344c0f"
      },
      "source": [
        "np.sum(y_pred==y) / len(y_pred)"
      ],
      "execution_count": 12,
      "outputs": [
        {
          "output_type": "execute_result",
          "data": {
            "text/plain": [
              "0.9666666666666667"
            ]
          },
          "metadata": {
            "tags": []
          },
          "execution_count": 12
        }
      ]
    },
    {
      "cell_type": "markdown",
      "metadata": {
        "id": "CYVOAvfRJ6PW"
      },
      "source": [
        "Clustering is used in a wide variety of applications, including these:\n",
        "* **For customer segmentation**: You can cluster your customer based on their purchases and their activity on your website. For example, a customer segmentation can be useful in recommender systems to suggest content that other users in the same cluster enjoyed.\n",
        "* **For data analysis**: When you analyze a new dataset, it can be helful to run a clustering algorithm, and then analyze each cluster separately.\n",
        "* **As a dimensionality reduction technique**: Once a dataset has been clustered, it is usually possible to measure each instance's affinity with each cluster (affinity is any measure of how well an instance fits into a cluster). \n",
        "* **For anomaly detection (also called outlier detection)**: Any instance that has a low affinity to all the clusters is likely to be an anomaly. Anomaly detection is particularly useful in detecting defects in manufacturing, or for fraud detection.\n",
        "* **For semi-supervisded learning**: If you only have a few labels, you could perform clustering and propagate the labels to all the instances in the same cluster.\n",
        "* **For search engines**: Some search engines let you search for iamges that are similar to a reference image. To build such a a system, you would first apply a clustering algorithm to all the images in your database; similar images would end up in the same cluster.\n",
        "* **To segment an image**: By clustering pixels according to their color, then replacing each pixel's color with the mean color of its cluster, it is possible to considerably reduce the number of different colors in the image."
      ]
    },
    {
      "cell_type": "code",
      "metadata": {
        "id": "HNTg0XyMLWSY"
      },
      "source": [
        ""
      ],
      "execution_count": null,
      "outputs": []
    }
  ]
}