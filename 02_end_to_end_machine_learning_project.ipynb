{
  "nbformat": 4,
  "nbformat_minor": 0,
  "metadata": {
    "colab": {
      "name": "02_end_to_end_machine_learning_project.ipynb",
      "provenance": [],
      "authorship_tag": "ABX9TyNdnRLaqfkE7NDskE0XsORQ",
      "include_colab_link": true
    },
    "kernelspec": {
      "name": "python3",
      "display_name": "Python 3"
    }
  },
  "cells": [
    {
      "cell_type": "markdown",
      "metadata": {
        "id": "view-in-github",
        "colab_type": "text"
      },
      "source": [
        "<a href=\"https://colab.research.google.com/github/carloslme/handson-ml2-book/blob/main/02_end_to_end_machine_learning_project.ipynb\" target=\"_parent\"><img src=\"https://colab.research.google.com/assets/colab-badge.svg\" alt=\"Open In Colab\"/></a>"
      ]
    },
    {
      "cell_type": "markdown",
      "metadata": {
        "id": "YqC7Gc3B9O5k"
      },
      "source": [
        "# Setup"
      ]
    },
    {
      "cell_type": "code",
      "metadata": {
        "id": "1uSyFRX59KJN"
      },
      "source": [
        "# Python ≥3.5 is required\r\n",
        "import sys\r\n",
        "assert sys.version_info >= (3, 5)\r\n",
        "\r\n",
        "# Scikit-Learn ≥0.20 is required\r\n",
        "import sklearn\r\n",
        "assert sklearn.__version__ >= \"0.20\"\r\n",
        "\r\n",
        "# Common imports\r\n",
        "import numpy as np\r\n",
        "import os\r\n",
        "\r\n",
        "# To plot pretty figures\r\n",
        "%matplotlib inline\r\n",
        "import matplotlib as mpl\r\n",
        "import matplotlib.pyplot as plt\r\n",
        "mpl.rc('axes', labelsize=14)\r\n",
        "mpl.rc('xtick', labelsize=12)\r\n",
        "mpl.rc('ytick', labelsize=12)\r\n",
        "\r\n",
        "# Where to save the figures\r\n",
        "PROJECT_ROOT_DIR = \".\"\r\n",
        "CHAPTER_ID = \"end_to_end_project\"\r\n",
        "IMAGES_PATH = os.path.join(PROJECT_ROOT_DIR, \"images\", CHAPTER_ID)\r\n",
        "os.makedirs(IMAGES_PATH, exist_ok=True)\r\n",
        "\r\n",
        "def save_fig(fig_id, tight_layout=True, fig_extension=\"png\", resolution=300):\r\n",
        "    path = os.path.join(IMAGES_PATH, fig_id + \".\" + fig_extension)\r\n",
        "    print(\"Saving figure\", fig_id)\r\n",
        "    if tight_layout:\r\n",
        "        plt.tight_layout()\r\n",
        "    plt.savefig(path, format=fig_extension, dpi=resolution)"
      ],
      "execution_count": 1,
      "outputs": []
    },
    {
      "cell_type": "code",
      "metadata": {
        "id": "TguzJjaC9nlB"
      },
      "source": [
        ""
      ],
      "execution_count": null,
      "outputs": []
    }
  ]
}