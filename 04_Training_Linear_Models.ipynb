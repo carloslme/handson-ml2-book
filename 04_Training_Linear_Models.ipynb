{
  "nbformat": 4,
  "nbformat_minor": 0,
  "metadata": {
    "colab": {
      "name": "04_Training_Linear_Models.ipynb",
      "provenance": [],
      "toc_visible": true,
      "authorship_tag": "ABX9TyN2gTE3bXsHqsc706ZLAuTE",
      "include_colab_link": true
    },
    "kernelspec": {
      "name": "python3",
      "display_name": "Python 3"
    },
    "language_info": {
      "name": "python"
    }
  },
  "cells": [
    {
      "cell_type": "markdown",
      "metadata": {
        "id": "view-in-github",
        "colab_type": "text"
      },
      "source": [
        "<a href=\"https://colab.research.google.com/github/carloslme/handson-ml2-book/blob/main/04_Training_Linear_Models.ipynb\" target=\"_parent\"><img src=\"https://colab.research.google.com/assets/colab-badge.svg\" alt=\"Open In Colab\"/></a>"
      ]
    },
    {
      "cell_type": "markdown",
      "metadata": {
        "id": "5TNoNjA7Xd2S"
      },
      "source": [
        "# Setup"
      ]
    },
    {
      "cell_type": "code",
      "metadata": {
        "id": "mGm4RzSGXT7r"
      },
      "source": [
        "# Python ≥3.5 is required\n",
        "import sys\n",
        "assert sys.version_info >= (3, 5)\n",
        "\n",
        "# Scikit-Learn ≥0.20 is required\n",
        "import sklearn\n",
        "assert sklearn.__version__ >= \"0.20\"\n",
        "\n",
        "# Common imports\n",
        "import numpy as np\n",
        "import os\n",
        "\n",
        "# to make this notebook's output stable across runs\n",
        "np.random.seed(42)\n",
        "\n",
        "# To plot pretty figures\n",
        "%matplotlib inline\n",
        "import matplotlib as mpl\n",
        "import matplotlib.pyplot as plt\n",
        "mpl.rc('axes', labelsize=14)\n",
        "mpl.rc('xtick', labelsize=12)\n",
        "mpl.rc('ytick', labelsize=12)\n",
        "\n",
        "# Where to save the figures\n",
        "PROJECT_ROOT_DIR = \".\"\n",
        "CHAPTER_ID = \"training_linear_models\"\n",
        "IMAGES_PATH = os.path.join(PROJECT_ROOT_DIR, \"images\", CHAPTER_ID)\n",
        "os.makedirs(IMAGES_PATH, exist_ok=True)\n",
        "\n",
        "def save_fig(fig_id, tight_layout=True, fig_extension=\"png\", resolution=300):\n",
        "    path = os.path.join(IMAGES_PATH, fig_id + \".\" + fig_extension)\n",
        "    print(\"Saving figure\", fig_id)\n",
        "    if tight_layout:\n",
        "        plt.tight_layout()\n",
        "    plt.savefig(path, format=fig_extension, dpi=resolution)"
      ],
      "execution_count": 5,
      "outputs": []
    },
    {
      "cell_type": "markdown",
      "metadata": {
        "id": "7bd5TPjVfWS5"
      },
      "source": [
        "# Linear Regression\n",
        "\n",
        "More generally, a linear model makes a prediction by simply computing a weighted sum of the input features, plus a constant called the *bias term* (also called the *intercept term*).\n",
        "\n",
        "***ŷ = θ0 + θ1x1 + θ2x2 + ⋯ + θnxn***\n",
        "\n",
        "Where:\n",
        "* ŷ is the predicted value. \n",
        "* n is the number of features. \n",
        "* xi is the ith feature value. \n",
        "* θj is the jth model parameter (including the bias term θ0 and the feature weights θ1, θ2, ⋯, θn).\n",
        "\n",
        "Or written as vectorized form:\n",
        "\n",
        "***ŷ=hθ(x)=θ·x***\n",
        "\n",
        "In this equation:\n",
        "* θ is the model’s parameter vector, containing the bias term θ0 and the feature weights θ1 to θn.\n",
        "* x is the instance’s feature vector, containing x0 to xn, with x0 always equal to 1.\n",
        "* θ·x is the dot product of the vectors θ and x , which is of course equal to θ0x0 + θ1x1 + θ2x2 + ⋯ + θnxn.\n",
        "* hθ is the hypothesis function, using the model parameters θ."
      ]
    },
    {
      "cell_type": "markdown",
      "metadata": {
        "id": "zhcF9k8veTdT"
      },
      "source": [
        "**Note**\n",
        "\n",
        "In ML, vectors are often represented as *column vectors*, which are 2D arrays with a single column. If **θ** and **x** are column vectors, then the prediction is ***ŷ=θ⊺x***, where θ⊺ is the transpose of θ (a row vector instead of a column vector) and θ⊺x is the matrix multiplication of θ⊺ and x. It is of course the same prediction, except that it is now represented as a single-cell matrix rather than a scalar value. \n",
        "\n",
        "To train a Linear Regression model, we need to find the value of of **θ** that minimizes the Root Mean Square Error (RMSE). In practice, it is simpler to minimize the mean squared error (MSE) than the RMSE, and it leads to the same result (because the value that minimizes a function also minimizes its square root)."
      ]
    },
    {
      "cell_type": "markdown",
      "metadata": {
        "id": "l35nGAOTfjLH"
      },
      "source": [
        "## The MSE cost function of a Linear Regression model\n",
        "The MSE hypothesis ***hθ*** on a training set **X** is calculated using this equation:\n",
        "\n",
        "***MSE(X, hθ) = 1m ∑i = 1m(θ⊺x(i)-y(i))2***\n",
        "\n",
        "In this equation:\n",
        "* ***m*** is the number of instances in the dataset you are measuring the RMSE on. For example, if you are evaluating the RMSE on a validation set of 2,000 districts, then m = 2,000.\n",
        "* x(i) is a vector of all the feature values (excluding the label) of the i th instance in the dataset, and y(i) is its label (the desired output value for that instance).\n",
        "\n",
        "\n",
        "> For example, if the first district in the dataset is located at longitude –118.29°, latitude 33.91°, and it has 1,416 inhabitants with a median income of \\$38,372, and the median house value is \\$156,400 (ignoring the other features for now), then: \n",
        "* x(1) = -118.29 33.91 1,416 38,372\n",
        "* y(1) = 156,400\n",
        "\n",
        "* ***X*** is a matrix containing all the feature values (excluding labels) of all instances in the dataset. There is one row per instance, and the i th row is equal to the transpose of ***x(i)***, noted ***(x(i))⊺***\n",
        "\n",
        "> * For example, if the first district is as just described, then the matrix X looks like this: X = ( x ( 1 ) ) ⊺ ( x ( 2 ) ) ⊺ ⋮ ( x ( 1999 ) ) ⊺ ( x ( 2000 ) ) ⊺ = - 118.29 33.91 1,416 38,372 ⋮ ⋮ ⋮ ⋮\n",
        "\n",
        "* ***hθ*** is your system’s prediction function, also called a hypothesis . When your system is given an instance’s feature vector ***x(i)***, it outputs a predicted value ŷ(i) = h(x(i)) for that instance (ŷ is pronounced “y-hat”). \n",
        "> * For example, if your system predicts that the median housing price in the first district is \\$158,400, then ŷ(1) = h(x(1)) = 158,400. The prediction error for this district is ŷ (1) – y(1) = 2,000.\n",
        "\n",
        "* RMSE(**X**, h) is the cost function measured on the set of examples using your hypothesis h.\n",
        "\n",
        "\n",
        "To simplify notations, we will just write MSE(θ) instead of MSE(**X**, hθ).\n",
        "\n"
      ]
    },
    {
      "cell_type": "markdown",
      "metadata": {
        "id": "wKw04qQngK6p"
      },
      "source": [
        "## The Normal Equation\n",
        "\n",
        "To find the value of **θ** that minimizes the cost function, there is a closed-form solution —in other words, a mathematical equation that gives the result directly called *Normal Equation*:\n",
        "\n",
        "***θ^ = (X⊺X) - 1X⊺y***\n",
        "\n",
        "In this equation:\n",
        "* **θ^** is the value of θ that minimizes the cost function.\n",
        "* **y** is the vector of target values containing ***y(1)*** to ***y(m)***."
      ]
    },
    {
      "cell_type": "markdown",
      "metadata": {
        "id": "6SNGe34KjS2r"
      },
      "source": [
        "Let's generate some linear-looking data "
      ]
    },
    {
      "cell_type": "code",
      "metadata": {
        "id": "1aUKorFQfXHb"
      },
      "source": [
        "import numpy as np\n",
        "\n",
        "X = 2 * np.random.rand(100, 1)\n",
        "y = 4 + 3 * X + np.random.randn(100, 1)"
      ],
      "execution_count": 6,
      "outputs": []
    },
    {
      "cell_type": "code",
      "metadata": {
        "colab": {
          "base_uri": "https://localhost:8080/",
          "height": 0
        },
        "id": "nJQB8Qk2fhCp",
        "outputId": "99723682-b1e9-416a-f51d-f5b59a0b4eed"
      },
      "source": [
        "plt.plot(X, y, \"b.\")\n",
        "plt.xlabel(\"$x_1$\", fontsize=18)\n",
        "plt.ylabel(\"$y$\", rotation=0, fontsize=18)\n",
        "plt.axis([0, 2, 0, 15])\n",
        "save_fig(\"generated_data_plot\")\n",
        "plt.show()"
      ],
      "execution_count": 7,
      "outputs": [
        {
          "output_type": "stream",
          "text": [
            "Saving figure generated_data_plot\n"
          ],
          "name": "stdout"
        },
        {
          "output_type": "display_data",
          "data": {
            "image/png": "[encoded data removed]",
            "text/plain": [
              "<Figure size 432x288 with 1 Axes>"
            ]
          },
          "metadata": {
            "tags": [],
            "needs_background": "light"
          }
        }
      ]
    },
    {
      "cell_type": "markdown",
      "metadata": {
        "id": "p2js86IEjZNw"
      },
      "source": [
        "*Plot with randomly generated linear dataset*"
      ]
    },
    {
      "cell_type": "markdown",
      "metadata": {
        "id": "iYzKmUXYkLE5"
      },
      "source": [
        "Computing the θ^ using the Normal Equation. The `inv()` function to compute the inverse of a matrix, and the `dot()` method for matrix multiplication:"
      ]
    },
    {
      "cell_type": "code",
      "metadata": {
        "id": "M8sEPcRhfitP"
      },
      "source": [
        "X_b = np.c_[np.ones((100, 1)), X]  # add x0 = 1 to each instance\n",
        "theta_best = np.linalg.inv(X_b.T.dot(X_b)).dot(X_b.T).dot(y)"
      ],
      "execution_count": 8,
      "outputs": []
    },
    {
      "cell_type": "markdown",
      "metadata": {
        "id": "Ct0ztPwWnV8h"
      },
      "source": [
        "The function used was to generate the data y=4+3x1+Gaussian noise."
      ]
    },
    {
      "cell_type": "code",
      "metadata": {
        "colab": {
          "base_uri": "https://localhost:8080/"
        },
        "id": "j5KTMeOVf0tm",
        "outputId": "2a975845-798c-4a7c-8e94-cc8b5d1fd97e"
      },
      "source": [
        "theta_best"
      ],
      "execution_count": 9,
      "outputs": [
        {
          "output_type": "execute_result",
          "data": {
            "text/plain": [
              "array([[4.21509616],\n",
              "       [2.77011339]])"
            ]
          },
          "metadata": {
            "tags": []
          },
          "execution_count": 9
        }
      ]
    },
    {
      "cell_type": "markdown",
      "metadata": {
        "id": "Z_LIduocntJc"
      },
      "source": [
        "We got for θ0=3.97 and θ1=3.14 instead of θ0=4 and θ1=3 because of the noise made it impossible to recover the exact parameters of the original function.\n",
        "\n",
        "Next make predictions using θ^:"
      ]
    },
    {
      "cell_type": "code",
      "metadata": {
        "colab": {
          "base_uri": "https://localhost:8080/"
        },
        "id": "y_l_Wsgwf2Ds",
        "outputId": "34de3b98-838a-4829-fc3b-6ea777c33af4"
      },
      "source": [
        "X_new = np.array([[0], [2]])\n",
        "X_new_b = np.c_[np.ones((2, 1)), X_new]  # add x0 = 1 to each instance\n",
        "y_predict = X_new_b.dot(theta_best)\n",
        "y_predict"
      ],
      "execution_count": 10,
      "outputs": [
        {
          "output_type": "execute_result",
          "data": {
            "text/plain": [
              "array([[4.21509616],\n",
              "       [9.75532293]])"
            ]
          },
          "metadata": {
            "tags": []
          },
          "execution_count": 10
        }
      ]
    },
    {
      "cell_type": "code",
      "metadata": {
        "colab": {
          "base_uri": "https://localhost:8080/",
          "height": 0
        },
        "id": "5vTr2FDKf4xJ",
        "outputId": "9384ff27-c272-4452-c559-b8e3583aafb3"
      },
      "source": [
        "plt.plot(X_new, y_predict, \"r-\")\n",
        "plt.plot(X, y, \"b.\")\n",
        "plt.axis([0, 2, 0, 15])\n",
        "plt.show()"
      ],
      "execution_count": 11,
      "outputs": [
        {
          "output_type": "display_data",
          "data": {
            "image/png": "[encoded data removed]",
            "text/plain": [
              "<Figure size 432x288 with 1 Axes>"
            ]
          },
          "metadata": {
            "tags": [],
            "needs_background": "light"
          }
        }
      ]
    },
    {
      "cell_type": "code",
      "metadata": {
        "colab": {
          "base_uri": "https://localhost:8080/",
          "height": 0
        },
        "id": "dZCZGPijf6_o",
        "outputId": "bc37ae7d-f79d-4771-b964-72537ac41b36"
      },
      "source": [
        "plt.plot(X_new, y_predict, \"r-\", linewidth=2, label=\"Predictions\")\n",
        "plt.plot(X, y, \"b.\")\n",
        "plt.xlabel(\"$x_1$\", fontsize=18)\n",
        "plt.ylabel(\"$y$\", rotation=0, fontsize=18)\n",
        "plt.legend(loc=\"upper left\", fontsize=14)\n",
        "plt.axis([0, 2, 0, 15])\n",
        "save_fig(\"linear_model_predictions_plot\")\n",
        "plt.show()"
      ],
      "execution_count": 12,
      "outputs": [
        {
          "output_type": "stream",
          "text": [
            "Saving figure linear_model_predictions_plot\n"
          ],
          "name": "stdout"
        },
        {
          "output_type": "display_data",
          "data": {
            "image/png": "[encoded data removed]",
            "text/plain": [
              "<Figure size 432x288 with 1 Axes>"
            ]
          },
          "metadata": {
            "tags": [],
            "needs_background": "light"
          }
        }
      ]
    },
    {
      "cell_type": "markdown",
      "metadata": {
        "id": "s0f9n5BXn5mO"
      },
      "source": [
        "## Performing Linear Regression using Scikit-Learn"
      ]
    },
    {
      "cell_type": "code",
      "metadata": {
        "id": "mp_U8uRUf-sW",
        "colab": {
          "base_uri": "https://localhost:8080/"
        },
        "outputId": "5540a08c-8dcb-42f7-e19c-53ca0db841bb"
      },
      "source": [
        "from sklearn.linear_model import LinearRegression\n",
        "\n",
        "lin_reg = LinearRegression()\n",
        "lin_reg.fit(X, y)\n",
        "lin_reg.intercept_, lin_reg.coef_"
      ],
      "execution_count": 13,
      "outputs": [
        {
          "output_type": "execute_result",
          "data": {
            "text/plain": [
              "(array([4.21509616]), array([[2.77011339]]))"
            ]
          },
          "metadata": {
            "tags": []
          },
          "execution_count": 13
        }
      ]
    },
    {
      "cell_type": "code",
      "metadata": {
        "id": "xbGmvMOGoFPs",
        "outputId": "2a839393-c4c1-433a-acd7-0978104bcd01",
        "colab": {
          "base_uri": "https://localhost:8080/"
        }
      },
      "source": [
        "lin_reg.predict(X_new)"
      ],
      "execution_count": 14,
      "outputs": [
        {
          "output_type": "execute_result",
          "data": {
            "text/plain": [
              "array([[4.21509616],\n",
              "       [9.75532293]])"
            ]
          },
          "metadata": {
            "tags": []
          },
          "execution_count": 14
        }
      ]
    },
    {
      "cell_type": "markdown",
      "metadata": {
        "id": "XG2Kzu_yoqxl"
      },
      "source": [
        "The LinearRegression class is based on the `scipy.linalg.lstsq()` function (the name stands for \"least squares\"), which you could call directly:"
      ]
    },
    {
      "cell_type": "code",
      "metadata": {
        "id": "igtbLsuSocqK",
        "outputId": "d4c4ba81-1c29-4a95-ed61-2ed02bb3c491",
        "colab": {
          "base_uri": "https://localhost:8080/"
        }
      },
      "source": [
        "theta_best_svd, residuals, rank, s = np.linalg.lstsq(X_b, y, rcond=1e-6)\n",
        "theta_best_svd"
      ],
      "execution_count": 15,
      "outputs": [
        {
          "output_type": "execute_result",
          "data": {
            "text/plain": [
              "array([[4.21509616],\n",
              "       [2.77011339]])"
            ]
          },
          "metadata": {
            "tags": []
          },
          "execution_count": 15
        }
      ]
    },
    {
      "cell_type": "markdown",
      "metadata": {
        "id": "pPAKqpmzo03z"
      },
      "source": [
        "This function computes θ^ = X + y , where 𝐗+ is the *pseudoinverse* of X (specifically the Moore-Penrose inverse). You can use `np.linalg.pinv()` to compute the pseudoinverse directly:"
      ]
    },
    {
      "cell_type": "code",
      "metadata": {
        "id": "qGhhuljhovJT",
        "outputId": "3cbdbc1d-78a1-4832-9ca6-13790d857e9c",
        "colab": {
          "base_uri": "https://localhost:8080/"
        }
      },
      "source": [
        "np.linalg.pinv(X_b).dot(y)"
      ],
      "execution_count": 16,
      "outputs": [
        {
          "output_type": "execute_result",
          "data": {
            "text/plain": [
              "array([[4.21509616],\n",
              "       [2.77011339]])"
            ]
          },
          "metadata": {
            "tags": []
          },
          "execution_count": 16
        }
      ]
    },
    {
      "cell_type": "code",
      "metadata": {
        "id": "QCt19jRApDtX"
      },
      "source": [
        ""
      ],
      "execution_count": null,
      "outputs": []
    }
  ]
}